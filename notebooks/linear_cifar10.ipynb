{
 "cells": [
  {
   "cell_type": "markdown",
   "metadata": {},
   "source": [
    "## Needed Import"
   ]
  },
  {
   "cell_type": "code",
   "execution_count": 6,
   "metadata": {},
   "outputs": [],
   "source": [
    "from pprint import pprint\n",
    "from numpy import reshape\n",
    "from keras.models import load_model\n",
    "from keras.utils.vis_utils import plot_model\n",
    "from keras.models import Sequential\n",
    "from keras.datasets import cifar10\n",
    "from keras.utils import to_categorical\n",
    "from keras.optimizers import sgd\n",
    "from keras.callbacks import TensorBoard\n",
    "from keras.activations import sigmoid\n",
    "from keras.layers import Dense\n",
    "from keras.metrics import categorical_accuracy, mse"
   ]
  },
  {
   "cell_type": "markdown",
   "metadata": {},
   "source": [
    "## Data Preprocessing"
   ]
  },
  {
   "cell_type": "code",
   "execution_count": 7,
   "metadata": {},
   "outputs": [],
   "source": [
    "experiment_name = 'CIPHAR10_LINEAR_1024_TO_10_LR_05'\n",
    "tb_callback = TensorBoard('../logs/' + experiment_name)\n",
    "\n",
    "(x_train, y_train), (x_test, y_test) = cifar10.load_data()\n",
    "cifar10_img_size = 32*32\n",
    "\n",
    "y_train = to_categorical(y_train)\n",
    "y_test = to_categorical(y_test)\n",
    "\n",
    "x_train = reshape(x_train, (-1, cifar10_img_size*3)) / 255.0\n",
    "x_test = reshape(x_test, (-1, cifar10_img_size*3)) / 255.0"
   ]
  },
  {
   "cell_type": "markdown",
   "metadata": {},
   "source": [
    "## Model Design"
   ]
  },
  {
   "cell_type": "code",
   "execution_count": 8,
   "metadata": {},
   "outputs": [],
   "source": [
    "linear_model = Sequential()\n",
    "linear_model.add(Dense(10, activation=sigmoid,\n",
    "                       input_dim=cifar10_img_size*3))"
   ]
  },
  {
   "cell_type": "markdown",
   "metadata": {},
   "source": [
    "## Compilation of the model"
   ]
  },
  {
   "cell_type": "markdown",
   "metadata": {},
   "source": [
    "linear_model.compile(sgd(lr=0.5), mse, metrics=[categorical_accuracy])"
   ]
  },
  {
   "cell_type": "markdown",
   "metadata": {},
   "source": [
    "## Summary of the model"
   ]
  },
  {
   "cell_type": "code",
   "execution_count": 9,
   "metadata": {},
   "outputs": [
    {
     "name": "stdout",
     "output_type": "stream",
     "text": [
      "_________________________________________________________________\n",
      "Layer (type)                 Output Shape              Param #   \n",
      "=================================================================\n",
      "dense_2 (Dense)              (None, 10)                30730     \n",
      "=================================================================\n",
      "Total params: 30,730\n",
      "Trainable params: 30,730\n",
      "Non-trainable params: 0\n",
      "_________________________________________________________________\n",
      "None\n"
     ]
    }
   ],
   "source": [
    "print(linear_model.summary())"
   ]
  },
  {
   "cell_type": "markdown",
   "metadata": {},
   "source": [
    "## Loading the model"
   ]
  },
  {
   "cell_type": "code",
   "execution_count": 10,
   "metadata": {},
   "outputs": [
    {
     "name": "stdout",
     "output_type": "stream",
     "text": [
      "[array([[ 0.01216112, -0.00418116, -0.02402901, ..., -0.00178781,\n",
      "        -0.0163731 ,  0.00308733],\n",
      "       [ 0.00636069, -0.0404105 , -0.03837859, ...,  0.02680767,\n",
      "         0.02446513, -0.00883943],\n",
      "       [ 0.04061848, -0.02131246, -0.02435805, ...,  0.00421236,\n",
      "         0.00915042,  0.02362994],\n",
      "       ..., \n",
      "       [ 0.02597069, -0.04216878,  0.03578485, ..., -0.00687758,\n",
      "        -0.04235086,  0.06302182],\n",
      "       [-0.01642722,  0.00038367,  0.00217633, ...,  0.01301891,\n",
      "        -0.02765267,  0.05793511],\n",
      "       [-0.0124646 ,  0.02677877, -0.0348543 , ..., -0.03650958,\n",
      "         0.02236231,  0.04056896]], dtype=float32),\n",
      " array([-0.56868654, -0.2531473 , -0.27206042, -0.23573337, -0.20275378,\n",
      "       -0.46932748, -0.18040729, -0.29759347, -0.54147637, -0.31611624], dtype=float32)]\n"
     ]
    }
   ],
   "source": [
    "linear_model = load_model('../model_save/CIPHAR10_LINEAR_1024_TO_10_LR_0.5.h5')\n",
    "pprint(linear_model.get_weights())"
   ]
  },
  {
   "cell_type": "markdown",
   "metadata": {},
   "source": [
    "## Training the model"
   ]
  },
  {
   "cell_type": "markdown",
   "metadata": {},
   "source": [
    "linear_model.fit(x_train, y_train,\n",
    "                 batch_size=8192,\n",
    "                 epochs=120,\n",
    "                 callbacks=[tb_callback],\n",
    "                 validation_data=(x_test, y_test))"
   ]
  }
 ],
 "metadata": {
  "kernelspec": {
   "display_name": "Python 3",
   "language": "python",
   "name": "python3"
  },
  "language_info": {
   "codemirror_mode": {
    "name": "ipython",
    "version": 3
   },
   "file_extension": ".py",
   "mimetype": "text/x-python",
   "name": "python",
   "nbconvert_exporter": "python",
   "pygments_lexer": "ipython3",
   "version": "3.6.3"
  }
 },
 "nbformat": 4,
 "nbformat_minor": 2
}
